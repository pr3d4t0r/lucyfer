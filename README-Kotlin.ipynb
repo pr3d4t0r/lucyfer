{
 "cells": [
  {
   "cell_type": "markdown",
   "id": "8842830e-a64c-4df7-a592-5c6c5e89dd44",
   "metadata": {},
   "source": [
    "# README Kotlin validation test\n",
    "\n",
    "For details head over to [kotlin-jupyter](https://github.com/Kotlin/kotlin-jupyter) project on GitHub.\n",
    "\n",
    "These examples are for validating that the basic Kotlin kernel features work.\n",
    "\n",
    "Standard magic keywords don't work in the notebooks or REPL.  The Kotlin kernel comes with its own magic keywords like `%use` - please refer to the documentation for details."
   ]
  },
  {
   "cell_type": "markdown",
   "id": "6c346996-9879-4cfa-8a06-b749e002fefe",
   "metadata": {},
   "source": [
    "---\n",
    "## Coding example"
   ]
  },
  {
   "cell_type": "code",
   "execution_count": null,
   "id": "b7385f4a-1db0-4a57-a0ca-ecaf04366049",
   "metadata": {},
   "outputs": [],
   "source": [
    "class Greeter(val name: String) {\n",
    "    fun greet() {\n",
    "        println(\"Hello, $name!\")\n",
    "    }\n",
    "}"
   ]
  },
  {
   "cell_type": "code",
   "execution_count": null,
   "id": "9b610076-15ce-47f7-af4e-d3ba154c301f",
   "metadata": {},
   "outputs": [],
   "source": [
    "Greeter(\"Jupyter\").greet()"
   ]
  },
  {
   "cell_type": "markdown",
   "id": "c81e0c4e-a1e6-46a7-b00a-f005f6a9f2d7",
   "metadata": {},
   "source": [
    "---\n",
    "## Dataframe example\n",
    "\n",
    "Check out the `%use` magic word -- it's equivalent to having an `import` statement under regular code.  By the way:  shell commands via `!` or `!!` are unavailable in this Kotlin kernel as well."
   ]
  },
  {
   "cell_type": "code",
   "execution_count": null,
   "id": "54138df7-0ebe-4b46-9264-72afd3bc38c0",
   "metadata": {},
   "outputs": [],
   "source": [
    "%use dataframe"
   ]
  },
  {
   "cell_type": "code",
   "execution_count": null,
   "id": "46a51578-bab8-4a2f-8a86-a275c31ed877",
   "metadata": {},
   "outputs": [],
   "source": [
    "val fromTo by columnOf(\"Lodon_Paris\", \"Madrid_Milan\", \"London_Stockholm\", \"Budapest_Paris\", \"Brussels_London\")\n",
    "val flightNumber by columnOf(10045.0, Double.NaN, 10065.0, Double.NaN, 10085.0)\n",
    "val recentDelays by columnOf(\"23,47\", null, \"24, 43, 87\", \"13\", \"67, 32\")\n",
    "val airline by columnOf(\"KLM(!)\", \"{Air France} (12)\", \"(British Airways. )\", \"12. Air France\", \"'Swiss Air'\")\n",
    "\n",
    "dataFrameOf(fromTo, flightNumber, recentDelays, airline)"
   ]
  },
  {
   "cell_type": "markdown",
   "id": "dcc944e9-bb4a-4238-b8e1-37502e5c9312",
   "metadata": {},
   "source": [
    "---\n",
    "## Plotting example"
   ]
  },
  {
   "cell_type": "code",
   "execution_count": null,
   "id": "ea6fb8f6-3283-4c01-b550-5c81802f86f3",
   "metadata": {},
   "outputs": [],
   "source": [
    "%use lets-plot"
   ]
  },
  {
   "cell_type": "code",
   "execution_count": null,
   "id": "8ea7929d-9abb-4e5b-bb88-fc1ca09e3376",
   "metadata": {},
   "outputs": [],
   "source": [
    "val data = mapOf<String, Any>(\n",
    "            \"cat1\" to listOf(\"a\", \"a\", \"b\", \"a\", \"a\", \"a\", \"a\", \"b\", \"b\", \"b\", \"b\"),\n",
    "            \"cat2\" to listOf(\"c\", \"c\", \"d\", \"d\", \"d\", \"c\", \"c\", \"d\", \"c\", \"c\", \"d\"))\n",
    "val p = letsPlot(data)"
   ]
  },
  {
   "cell_type": "code",
   "execution_count": null,
   "id": "daa98d53-3178-4f7a-9f75-e6146cf20cd5",
   "metadata": {},
   "outputs": [],
   "source": [
    "val layer = geomBar { \n",
    "    x = \"cat1\"\n",
    "    fill = \"cat2\"\n",
    "}\n",
    "\n",
    "(p + layer)"
   ]
  },
  {
   "cell_type": "code",
   "execution_count": null,
   "id": "ebe4e16c-278a-4220-9e8c-96cecb9afe5d",
   "metadata": {},
   "outputs": [],
   "source": []
  }
 ],
 "metadata": {
  "kernelspec": {
   "display_name": "Kotlin",
   "language": "kotlin",
   "name": "kotlin"
  },
  "language_info": {
   "codemirror_mode": "text/x-kotlin",
   "file_extension": ".kt",
   "mimetype": "text/x-kotlin",
   "name": "kotlin",
   "nbconvert_exporter": "",
   "pygments_lexer": "kotlin",
   "version": "1.8.0-RC"
  }
 },
 "nbformat": 4,
 "nbformat_minor": 5
}
