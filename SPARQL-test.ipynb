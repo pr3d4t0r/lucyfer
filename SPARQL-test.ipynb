{
 "cells": [
  {
   "cell_type": "markdown",
   "id": "3c847b5b-669e-426e-ba0a-5b8c7f56ccc8",
   "metadata": {
    "tags": []
   },
   "source": [
    "# SPARQL notebook examples\n",
    "\n",
    "For details head over to Paulo Villegas' **<a href='https://github.com/paulovn/sparql-kernel/blob/master/LICENSE' target='_blank'>sparql-kernel</a>** project on GitHub.\n",
    "\n",
    "These examples are only for validating that the basic SPARQL Kernel features work.\n",
    "\n",
    "**<span style='color: #f00;'>Query responses vary from instantaneous to 2 minutes</span>** becuase DBpedia is a public service, its data architecture is somewhat flat, and everyone and their mother bang on the database 7\\*24\\*365.\n",
    "\n",
    "## Comfortable output configuration"
   ]
  },
  {
   "cell_type": "code",
   "execution_count": null,
   "id": "517483c9-b95c-400d-b090-550472f0e7b1",
   "metadata": {},
   "outputs": [],
   "source": [
    "%show 80\n",
    "%format default\n",
    "%display table"
   ]
  },
  {
   "cell_type": "markdown",
   "id": "e01836a4-891f-41dd-8120-395b9190f3b1",
   "metadata": {},
   "source": [
    "## DBpedia examples\n",
    "\n",
    "DBpedia offers several <a href='https://es.dbpedia.org/sparql?nsdecl' target='_blank'>predefined prefixes</a> that these examples leverage."
   ]
  },
  {
   "cell_type": "code",
   "execution_count": null,
   "id": "bdee0125-8f02-409b-991b-b6cef54da45f",
   "metadata": {},
   "outputs": [],
   "source": [
    "%endpoint http://dbpedia.org/sparql\n",
    "%display table withtypes"
   ]
  },
  {
   "cell_type": "code",
   "execution_count": null,
   "id": "a354242b-1156-4bb9-9881-7dd6c5029b24",
   "metadata": {},
   "outputs": [],
   "source": [
    "SELECT DISTINCT ?property\n",
    "WHERE {\n",
    "    ?s ?property ?person .\n",
    "    ?person rdf:type foaf:Person .\n",
    "} LIMIT 10"
   ]
  },
  {
   "cell_type": "code",
   "execution_count": null,
   "id": "864b98ff-4616-4e59-87a6-b79b1d8f744f",
   "metadata": {},
   "outputs": [],
   "source": [
    "%endpoint http://dbpedia.org/sparql\n",
    "%display diagram\n",
    "\n",
    "CONSTRUCT {\n",
    "    ?p1 dbp:successor ?p2 .\n",
    "    ?p2 dbp:successor ?p3 .\n",
    "    ?p3 dbp:successor ?p4 .\n",
    "}\n",
    "WHERE {\n",
    "    ?p1 rdf:type foaf:Person .\n",
    "    ?p1 dbp:successor ?p2 .\n",
    "    ?p2 dbp:successor ?p3 .\n",
    "    ?p3 dbp:successor ?p4 .\n",
    "}\n",
    "LIMIT 50"
   ]
  },
  {
   "cell_type": "markdown",
   "id": "22071fc8-7285-48f3-9cd7-2e89c5978882",
   "metadata": {},
   "source": [
    "## Wikipedia examples\n",
    "\n",
    "These were added because the queries are 2x to 10x faster than the DBpedia examples.  Exercising the database, the queries are meaningles otherwise."
   ]
  },
  {
   "cell_type": "code",
   "execution_count": null,
   "id": "534c093a-0464-4e20-8d2e-1c8acf013a73",
   "metadata": {},
   "outputs": [],
   "source": [
    "%endpoint https://query.wikidata.org/bigdata/namespace/wdq/sparql"
   ]
  },
  {
   "cell_type": "markdown",
   "id": "c870b2a7-0f1c-4d38-bdb1-2caa9c9c62b4",
   "metadata": {},
   "source": [
    "Tests connectivity and basic functionality by generating a list of cats breeds in Russian.  Some breeds don't have Spanish names defined, so the item label is the `itemID`.  Compare the results against the output from the next query."
   ]
  },
  {
   "cell_type": "code",
   "execution_count": null,
   "id": "f658e15c-21f2-43a1-a5ec-67fbb00e1346",
   "metadata": {},
   "outputs": [],
   "source": [
    "SELECT ?item ?itemLabel \n",
    "WHERE \n",
    "{\n",
    "  ?item wdt:P31 wd:Q146. # Must be of a cat\n",
    "  SERVICE wikibase:label { bd:serviceParam wikibase:language \"ru\". } # Helps get the label in your language, if not, then en language\n",
    "}"
   ]
  },
  {
   "cell_type": "code",
   "execution_count": null,
   "id": "967dc6cd-5bda-4307-9889-684d42ad92f5",
   "metadata": {},
   "outputs": [],
   "source": [
    "SELECT ?item ?itemLabel \n",
    "WHERE \n",
    "{\n",
    "  ?item wdt:P31 wd:Q146. # Must be of a cat\n",
    "  SERVICE wikibase:label { bd:serviceParam wikibase:language \"[AUTO_LANGUAGE],en\". } # Helps get the label in your language, if not, then en language\n",
    "}"
   ]
  },
  {
   "cell_type": "markdown",
   "id": "6eeeccf6-cd0e-46d5-bbd4-a84c5eea7035",
   "metadata": {},
   "source": [
    "Here's a list of people from NYC or from NYC proper who have relevant entries in Wikipedia, ordered by citations frequency."
   ]
  },
  {
   "cell_type": "code",
   "execution_count": null,
   "id": "cf6e65f7-b9f2-497d-af32-bb8cfac8c818",
   "metadata": {},
   "outputs": [],
   "source": []
  }
 ],
 "metadata": {
  "kernelspec": {
   "display_name": "SPARQL",
   "language": "sparql",
   "name": "sparql"
  },
  "language_info": {
   "codemirror_mode": {
    "name": "sparql"
   },
   "mimetype": "application/sparql-query",
   "name": "sparql",
   "pygments_lexer": "sparql-nb"
  }
 },
 "nbformat": 4,
 "nbformat_minor": 5
}
