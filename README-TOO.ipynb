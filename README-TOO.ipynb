{
 "cells": [
  {
   "cell_type": "markdown",
   "id": "d670f2f8-4404-4dad-8f0a-7e64af5312ce",
   "metadata": {},
   "source": [
    "# Lucyfer post installation cheat sheet\n",
    "\n",
    "## Terminal\n",
    "\n",
    "Lucyfer maps `$HOME` to a path in the host running the container, for persistency.  This happens after the `jovyan` account is created, so `/home/jovyan` appears to be empty on first run.  You need to finish configuring the terminal from this notebook.\n",
    "\n",
    "### Missing start up config:"
   ]
  },
  {
   "cell_type": "code",
   "execution_count": null,
   "id": "f42fd33f-c58b-44d0-9b08-484210e00f9c",
   "metadata": {},
   "outputs": [],
   "source": [
    "!ls -Al /etc/skel"
   ]
  },
  {
   "cell_type": "markdown",
   "id": "bb2782c2-6a08-45ea-847f-d7d7ceee49ee",
   "metadata": {},
   "source": [
    "`bash` configuration:"
   ]
  },
  {
   "cell_type": "code",
   "execution_count": null,
   "id": "76c2f8ff-6910-4ac1-9266-d9f062d0b8f9",
   "metadata": {
    "tags": []
   },
   "outputs": [],
   "source": [
    "![[ -e \"$HOME/.bash_profile\" ]] || cp -v \"/etc/skel/.bash_profile\" \"$HOME\"\n",
    "\n",
    "![[ -e \"$HOME/.bash_logout\" ]] || cp -v \"/etc/skel/.bash_logout\" \"$HOME\"\n",
    "\n",
    "![[ -e \"$HOME/.bashrc\" ]] || cp -v \"/etc/skel/.bashrc\" \"$HOME\"\n",
    "\n",
    "![[ -e \"$HOME/.profile\" ]] || cp -v \"/etc/skel/.profile\" \"$HOME\""
   ]
  },
  {
   "cell_type": "markdown",
   "id": "abef6167-45d6-4d11-9f23-659fccd792fb",
   "metadata": {},
   "source": [
    "---\n",
    "## Complete the Jupyter/Lucyfer configuration\n",
    "\n",
    "Install the notebook extensions in user space.\n",
    "\n",
    "**It is very important to complete this step before using this environment!**"
   ]
  },
  {
   "cell_type": "code",
   "execution_count": null,
   "id": "371fdbcb-f244-469e-9dd2-691d0a00798a",
   "metadata": {},
   "outputs": [],
   "source": [
    "%%capture\n",
    "!jupyter contrib nbextension install --user"
   ]
  },
  {
   "cell_type": "code",
   "execution_count": null,
   "id": "ddb25b4d-d5f1-4791-a85e-a75f79940bce",
   "metadata": {},
   "outputs": [],
   "source": [
    "!tree ~/.jupyter"
   ]
  },
  {
   "cell_type": "markdown",
   "id": "72857d57-2f7f-40ac-b6a2-535693668f54",
   "metadata": {},
   "source": [
    "---\n",
    "## Graph Notebook setup\n",
    "\n",
    "Original project and reference:  <a href='https://github.com/aws/graph-notebook' target='_blank'>aws/graph-notebook</a>.  Get the graph premade starter notebooks:"
   ]
  },
  {
   "cell_type": "code",
   "execution_count": null,
   "id": "f96a20b3-c6fc-4a2a-a65a-5328fe597ba1",
   "metadata": {},
   "outputs": [],
   "source": [
    "%%capture\n",
    "GRAPH_NOTEBOOK_DOCS=\"$HOME/graph-notebook-guide\"\n",
    "!python -m graph_notebook.notebooks.install --destination \"$GRAPH_NOTEBOOK_DOCS\""
   ]
  },
  {
   "cell_type": "code",
   "execution_count": null,
   "id": "3c5e32bd-d324-4594-a347-26cb90d92409",
   "metadata": {},
   "outputs": [],
   "source": [
    "!tree \"$GRAPH_NOTEBOOK_DOCS\""
   ]
  },
  {
   "cell_type": "markdown",
   "id": "198cd878-64bd-402d-b22d-6765dbe551db",
   "metadata": {},
   "source": [
    "### Validate the environment\n",
    "\n",
    "The premade Graph Notebook Guide was developed for Jupyter Notebook, not Jupyter Lab.  Notebook shared a single Python kernel among all open notebooks (often one at a time).  As a result, the Jupyter Lab/Lucyfer environment requires that the graph database be initialized in every single notebook file where it's used, since kernels aren't shared by default.  The cells in this section are used for configuring and testing connectivity with the database.  Adjust these parameters as you see fit:\n",
    "\n",
    "- host -- the Blazegraph or AWS Neptune name or IP address\n",
    "- port -- The port where the database listens\n",
    "\n",
    "The correct initialization sequence is:\n",
    "\n",
    "1. Load the graph notebook magic keywords\n",
    "1. Generate the graph database connectivity configuration for the current kernel\n",
    "1. Check status - `200` should be a valid request\n",
    "1. Run the sample SPARQL query to validate that the database is up"
   ]
  },
  {
   "cell_type": "code",
   "execution_count": null,
   "id": "e5c92901-fa9d-460a-b998-55eaa77ecf03",
   "metadata": {},
   "outputs": [],
   "source": [
    "%load_ext graph_notebook.magics"
   ]
  },
  {
   "cell_type": "code",
   "execution_count": null,
   "id": "67456da0-4091-43cb-ba35-c31e27748f1f",
   "metadata": {},
   "outputs": [],
   "source": [
    "%%graph_notebook_config\n",
    "{\n",
    "  \"host\": \"192.168.1.157\",\n",
    "  \"port\": 9999,\n",
    "  \"ssl\": false,\n",
    "  \"sparql\": {\n",
    "    \"path\": \"bigdata/sparql\"\n",
    "  }\n",
    "}"
   ]
  },
  {
   "cell_type": "code",
   "execution_count": null,
   "id": "032af280-5845-4f80-8312-ebc9dea5758c",
   "metadata": {},
   "outputs": [],
   "source": [
    "%status"
   ]
  },
  {
   "cell_type": "markdown",
   "id": "0d55fcaf-426b-4b4f-9463-22b2bf579c65",
   "metadata": {},
   "source": [
    "The database is up and reachable if the previous cell reports a `200` status.  Confirm that SPARQL queries may be issued against it:"
   ]
  },
  {
   "cell_type": "code",
   "execution_count": null,
   "id": "361a3bc3-0027-4a2f-9036-d037eaa79b5b",
   "metadata": {},
   "outputs": [],
   "source": [
    "%%sparql\n",
    "\n",
    "INSERT DATA {\n",
    "    <http://s-1000-1> <http://p-1> <http://o-1> .\n",
    "    <http://s-1000-2> <http://p-2> <http://o-2> .\n",
    "    <http://s-1000-3> <http://p-3> <http://o-3> .\n",
    "    <http://s-1000-4> <http://p-4> <http://o-4> .\n",
    "    <http://s-1000-5> <http://p-5> <http://o-5> .\n",
    "    <http://s-1000-6> <http://p-6> <http://o-6> .\n",
    "    <http://s-1000-7> <http://p-7> <http://o-7> .\n",
    "    <http://s-1000-8> <http://p-8> <http://o-8> .\n",
    "    <http://s-1000-9> <http://p-9> <http://o-9> .\n",
    "    <http://s-1000-10> <http://p-10> <http://o-10> .\n",
    "    <http://s-1000-11> <http://p-11> <http://o-11> .\n",
    "    <http://s-1000-12> <http://p-12> <http://o-12> .\n",
    "    <http://s-1000-13> <http://p-13> <http://o-13> .\n",
    "    <http://s-1000-14> <http://p-14> <http://o-14> .\n",
    "    <http://s-1000-15> <http://p-15> <http://o-15> .\n",
    "    <http://s-1000-16> <http://p-16> <http://o-16> .\n",
    "    <http://s-1000-17> <http://p-17> <http://o-17> .\n",
    "    <http://s-1000-18> <http://p-18> <http://o-18> .\n",
    "    <http://s-1000-19> <http://p-19> <http://o-19> .\n",
    "    <http://s-1000-20> <http://p-20> <http://o-20> .\n",
    "}"
   ]
  },
  {
   "cell_type": "markdown",
   "id": "ab573aae-d30b-4129-962a-184fe0f3dc48",
   "metadata": {},
   "source": [
    "Lucyfer is ready to run experiments against the database if none of the preceding cells reported errors."
   ]
  },
  {
   "cell_type": "markdown",
   "id": "f4fbe230-b44d-49b8-b6c4-5801807503b2",
   "metadata": {
    "tags": []
   },
   "source": [
    "---\n",
    "## Vim\n",
    "\n",
    "Lightweight `.vimrc` configuration for programming:"
   ]
  },
  {
   "cell_type": "code",
   "execution_count": null,
   "id": "24de6da8-a07d-417b-b205-8c86b203f8b7",
   "metadata": {},
   "outputs": [],
   "source": [
    "![[ -e \"$HOME/.vimrc\" ]] || cp -v \"/etc/skel/.vimrc\" \"$HOME\""
   ]
  },
  {
   "cell_type": "markdown",
   "id": "8c43ce20-770d-4f7f-b874-eb9b788719b1",
   "metadata": {},
   "source": [
    "### NERDTree installation\n",
    "\n",
    "Vim 8 packages setup; cleanest and easiest."
   ]
  },
  {
   "cell_type": "code",
   "execution_count": null,
   "id": "58354ed3-b21e-4d10-aa72-60dc5e74b5b8",
   "metadata": {},
   "outputs": [],
   "source": [
    "![[ -d \"$HOME/.vim/pack/vendoer/start/nerdtree\" ]] || \\\n",
    "    git clone https://github.com/preservim/nerdtree.git ~/.vim/pack/vendor/start/nerdtree && \\\n",
    "    vim -u NONE -c \"helptags ~/.vim/pack/vendor/start/nerdtree/doc\" -c q"
   ]
  },
  {
   "cell_type": "markdown",
   "id": "f135a113-80d8-4114-889c-a14d3d20fa03",
   "metadata": {},
   "source": [
    "Enable the NERDTree in `.vimrc` to always open on starting the editor from the command line:"
   ]
  },
  {
   "cell_type": "code",
   "execution_count": null,
   "id": "4ebf381e-9179-4a87-b5c6-ab40a4b62f44",
   "metadata": {},
   "outputs": [],
   "source": [
    "!awk '/NERDTree/ { b = 1; } END { exit(!b); }' \"$HOME/.vimrc\" || \\\n",
    "    echo 'autocmd VimEnter * NERDTree | set nu' | tee -a \"$HOME/.vimrc\" && \\\n",
    "    echo \"NERDTree on start installed\""
   ]
  },
  {
   "cell_type": "markdown",
   "id": "997a127d-16c7-4276-98d2-c08d50bac9a7",
   "metadata": {},
   "source": [
    "---\n",
    "## .gitignore\n",
    "\n",
    "There's a sample `.gitignore` file available in `/etc/skel` with "
   ]
  },
  {
   "cell_type": "code",
   "execution_count": null,
   "id": "86b70e27-1071-4ab1-ba06-4a83971ce84c",
   "metadata": {},
   "outputs": [],
   "source": []
  }
 ],
 "metadata": {
  "kernelspec": {
   "display_name": "Python 3 (ipykernel)",
   "language": "python",
   "name": "python3"
  },
  "language_info": {
   "codemirror_mode": {
    "name": "ipython",
    "version": 3
   },
   "file_extension": ".py",
   "mimetype": "text/x-python",
   "name": "python",
   "nbconvert_exporter": "python",
   "pygments_lexer": "ipython3",
   "version": "3.9.10"
  }
 },
 "nbformat": 4,
 "nbformat_minor": 5
}
