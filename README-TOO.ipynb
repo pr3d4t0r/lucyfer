{
 "cells": [
  {
   "cell_type": "markdown",
   "id": "d670f2f8-4404-4dad-8f0a-7e64af5312ce",
   "metadata": {},
   "source": [
    "# Lucyfer post installation cheat sheet\n",
    "\n",
    "## Terminal\n",
    "\n",
    "Lucyfer maps `$HOME` to a path in the host running the container, for persistency.  This happens after the `jovyan` account is created, so `/home/jovyan` appears to be empty on first run.  You need to finish configuring the terminal from this notebook.\n",
    "\n",
    "### Missing start up config:"
   ]
  },
  {
   "cell_type": "code",
   "execution_count": null,
   "id": "f42fd33f-c58b-44d0-9b08-484210e00f9c",
   "metadata": {},
   "outputs": [],
   "source": [
    "!ls -Al /etc/skel"
   ]
  },
  {
   "cell_type": "markdown",
   "id": "bb2782c2-6a08-45ea-847f-d7d7ceee49ee",
   "metadata": {},
   "source": [
    "`bash` configuration:"
   ]
  },
  {
   "cell_type": "code",
   "execution_count": null,
   "id": "76c2f8ff-6910-4ac1-9266-d9f062d0b8f9",
   "metadata": {
    "tags": []
   },
   "outputs": [],
   "source": [
    "![[ -e \"$HOME/.bash_profile\" ]] || cp -v \"/etc/skel/.bash_profile\" \"$HOME\"\n",
    "\n",
    "![[ -e \"$HOME/.bash_logout\" ]] || cp -v \"/etc/skel/.bash_logout\" \"$HOME\"\n",
    "\n",
    "![[ -e \"$HOME/.bashrc\" ]] || cp -v \"/etc/skel/.bashrc\" \"$HOME\"\n",
    "\n",
    "![[ -e \"$HOME/.profile\" ]] || cp -v \"/etc/skel/.profile\" \"$HOME\""
   ]
  },
  {
   "cell_type": "markdown",
   "id": "abef6167-45d6-4d11-9f23-659fccd792fb",
   "metadata": {},
   "source": [
    "---\n",
    "## Complete the Jupyter/Lucyfer configuration\n",
    "\n",
    "Install the notebook extensions in user space.\n",
    "\n",
    "**It is very important to complete this step before using this environment!**"
   ]
  },
  {
   "cell_type": "code",
   "execution_count": null,
   "id": "371fdbcb-f244-469e-9dd2-691d0a00798a",
   "metadata": {},
   "outputs": [],
   "source": [
    "%%capture\n",
    "!jupyter contrib nbextension install --user"
   ]
  },
  {
   "cell_type": "code",
   "execution_count": null,
   "id": "ddb25b4d-d5f1-4791-a85e-a75f79940bce",
   "metadata": {},
   "outputs": [],
   "source": [
    "!tree ~/.jupyter"
   ]
  },
  {
   "cell_type": "markdown",
   "id": "9a2fd8e9-9b91-4eb1-aec7-b6c0c5fd8213",
   "metadata": {},
   "source": [
    "---\n",
    "## pandoc test"
   ]
  },
  {
   "cell_type": "code",
   "execution_count": null,
   "id": "3573029f-0d0c-46b3-a5ba-0de7434d7887",
   "metadata": {},
   "outputs": [],
   "source": [
    "!jupyter nbconvert --to pdf \"README-TOO.ipynb\""
   ]
  },
  {
   "cell_type": "markdown",
   "id": "f4fbe230-b44d-49b8-b6c4-5801807503b2",
   "metadata": {
    "tags": []
   },
   "source": [
    "---\n",
    "## Vim\n",
    "\n",
    "Lightweight `.vimrc` configuration for programming:"
   ]
  },
  {
   "cell_type": "code",
   "execution_count": null,
   "id": "24de6da8-a07d-417b-b205-8c86b203f8b7",
   "metadata": {},
   "outputs": [],
   "source": [
    "![[ -e \"$HOME/.vimrc\" ]] || cp -v \"/etc/skel/.vimrc\" \"$HOME\""
   ]
  },
  {
   "cell_type": "markdown",
   "id": "8c43ce20-770d-4f7f-b874-eb9b788719b1",
   "metadata": {},
   "source": [
    "### NERDTree installation\n",
    "\n",
    "Vim 8 packages setup; cleanest and easiest."
   ]
  },
  {
   "cell_type": "code",
   "execution_count": null,
   "id": "58354ed3-b21e-4d10-aa72-60dc5e74b5b8",
   "metadata": {},
   "outputs": [],
   "source": [
    "![[ -d \"$HOME/.vim/pack/vendoer/start/nerdtree\" ]] || \\\n",
    "    git clone https://github.com/preservim/nerdtree.git ~/.vim/pack/vendor/start/nerdtree && \\\n",
    "    vim -u NONE -c \"helptags ~/.vim/pack/vendor/start/nerdtree/doc\" -c q"
   ]
  },
  {
   "cell_type": "markdown",
   "id": "f135a113-80d8-4114-889c-a14d3d20fa03",
   "metadata": {},
   "source": [
    "Enable the NERDTree in `.vimrc` to always open on starting the editor from the command line:"
   ]
  },
  {
   "cell_type": "code",
   "execution_count": null,
   "id": "4ebf381e-9179-4a87-b5c6-ab40a4b62f44",
   "metadata": {},
   "outputs": [],
   "source": [
    "!awk '/NERDTree/ { b = 1; } END { exit(!b); }' \"$HOME/.vimrc\" || \\\n",
    "    echo 'autocmd VimEnter * NERDTree | set nu' | tee -a \"$HOME/.vimrc\" && \\\n",
    "    echo \"NERDTree on start installed\""
   ]
  },
  {
   "cell_type": "markdown",
   "id": "997a127d-16c7-4276-98d2-c08d50bac9a7",
   "metadata": {},
   "source": [
    "---\n",
    "## .gitignore\n",
    "\n",
    "There's a sample `.gitignore` file available in `/etc/skel` with "
   ]
  },
  {
   "cell_type": "code",
   "execution_count": null,
   "id": "86b70e27-1071-4ab1-ba06-4a83971ce84c",
   "metadata": {},
   "outputs": [],
   "source": []
  }
 ],
 "metadata": {
  "kernelspec": {
   "display_name": "Python 3 (ipykernel)",
   "language": "python",
   "name": "python3"
  },
  "language_info": {
   "codemirror_mode": {
    "name": "ipython",
    "version": 3
   },
   "file_extension": ".py",
   "mimetype": "text/x-python",
   "name": "python",
   "nbconvert_exporter": "python",
   "pygments_lexer": "ipython3",
   "version": "3.9.10"
  }
 },
 "nbformat": 4,
 "nbformat_minor": 5
}
