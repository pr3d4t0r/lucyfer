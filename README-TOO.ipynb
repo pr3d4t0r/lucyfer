{
 "cells": [
  {
   "cell_type": "markdown",
   "id": "d670f2f8-4404-4dad-8f0a-7e64af5312ce",
   "metadata": {},
   "source": [
    "# Lucyfer post installation cheat sheet\n",
    "\n",
    "## Terminal\n",
    "\n",
    "Lucyfer maps `$HOME` to a path in the host running the container, for persistency.  This happens after the `jovyan` account is created, so `/home/jovyan` appears to be empty on first run.  You need to finish configuring the terminal from this notebook.\n",
    "\n",
    "### Missing start up config:"
   ]
  },
  {
   "cell_type": "code",
   "execution_count": null,
   "id": "f42fd33f-c58b-44d0-9b08-484210e00f9c",
   "metadata": {},
   "outputs": [],
   "source": [
    "!ls -Al /etc/skel"
   ]
  },
  {
   "cell_type": "markdown",
   "id": "bb2782c2-6a08-45ea-847f-d7d7ceee49ee",
   "metadata": {},
   "source": [
    "`bash` configuration:"
   ]
  },
  {
   "cell_type": "code",
   "execution_count": null,
   "id": "49c3765f-529f-4c70-9f3c-0d08d40bedfd",
   "metadata": {
    "tags": []
   },
   "outputs": [],
   "source": [
    "![[ -e \"$HOME/.bash_profile\" ]] || cp -v \"/etc/skel/.bash_profile\" \"$HOME\"\n",
    "\n",
    "![[ -e \"$HOME/.bash_logout\" ]] || cp -v \"/etc/skel/.bash_logout\" \"$HOME\"\n",
    "\n",
    "![[ -e \"$HOME/.bashrc\" ]] || cp -v \"/etc/skel/.bashrc\" \"$HOME\"\n",
    "\n",
    "![[ -e \"$HOME/.profile\" ]] || cp -v \"/etc/skel/.profile\" \"$HOME\""
   ]
  },
  {
   "cell_type": "markdown",
   "id": "72857d57-2f7f-40ac-b6a2-535693668f54",
   "metadata": {},
   "source": [
    "---\n",
    "## Graph Notebook setup\n",
    "\n",
    "Original project and reference:  <a href='https://github.com/aws/graph-notebook' target='_blank'>aws/graph-notebook</a>.  Get the graph premade starter notebooks:"
   ]
  },
  {
   "cell_type": "code",
   "execution_count": null,
   "id": "f96a20b3-c6fc-4a2a-a65a-5328fe597ba1",
   "metadata": {},
   "outputs": [],
   "source": [
    "%%capture\n",
    "GRAPH_NOTEBOOK_DOCS=\"$HOME/graph-notebook-guide\"\n",
    "!python -m graph_notebook.notebooks.install --destination \"$GRAPH_NOTEBOOK_DOCS\""
   ]
  },
  {
   "cell_type": "code",
   "execution_count": null,
   "id": "3c5e32bd-d324-4594-a347-26cb90d92409",
   "metadata": {},
   "outputs": [],
   "source": [
    "!tree \"$GRAPH_NOTEBOOK_DOCS\""
   ]
  },
  {
   "cell_type": "code",
   "execution_count": null,
   "id": "e5c92901-fa9d-460a-b998-55eaa77ecf03",
   "metadata": {},
   "outputs": [],
   "source": [
    "%load_ext graph_notebook.magics"
   ]
  },
  {
   "cell_type": "code",
   "execution_count": null,
   "id": "67456da0-4091-43cb-ba35-c31e27748f1f",
   "metadata": {},
   "outputs": [],
   "source": [
    "%graph_notebook_config"
   ]
  },
  {
   "cell_type": "markdown",
   "id": "f4fbe230-b44d-49b8-b6c4-5801807503b2",
   "metadata": {},
   "source": [
    "---\n",
    "## Vim\n",
    "\n",
    "Lightweight `.vimrc` configuration for programming:"
   ]
  },
  {
   "cell_type": "code",
   "execution_count": null,
   "id": "24de6da8-a07d-417b-b205-8c86b203f8b7",
   "metadata": {},
   "outputs": [],
   "source": [
    "![[ -e \"$HOME/.vimrc\" ]] || cp -v \"/etc/skel/.vimrc\" \"$HOME\""
   ]
  },
  {
   "cell_type": "markdown",
   "id": "8c43ce20-770d-4f7f-b874-eb9b788719b1",
   "metadata": {},
   "source": [
    "### NERDTree installation\n",
    "\n",
    "Vim 8 packages setup; cleanest and easiest."
   ]
  },
  {
   "cell_type": "code",
   "execution_count": null,
   "id": "58354ed3-b21e-4d10-aa72-60dc5e74b5b8",
   "metadata": {},
   "outputs": [],
   "source": [
    "![[ -d \"$HOME/.vim/pack/vendoer/start/nerdtree\" ]] || \\\n",
    "    git clone https://github.com/preservim/nerdtree.git ~/.vim/pack/vendor/start/nerdtree && \\\n",
    "    vim -u NONE -c \"helptags ~/.vim/pack/vendor/start/nerdtree/doc\" -c q"
   ]
  },
  {
   "cell_type": "markdown",
   "id": "f135a113-80d8-4114-889c-a14d3d20fa03",
   "metadata": {},
   "source": [
    "Enable the NERDTree in `.vimrc` to always open on starting the editor from the command line:"
   ]
  },
  {
   "cell_type": "code",
   "execution_count": null,
   "id": "4ebf381e-9179-4a87-b5c6-ab40a4b62f44",
   "metadata": {},
   "outputs": [],
   "source": [
    "!awk '/NERDTree/ { b = 1; } END { exit(!b); }' \"$HOME/.vimrc\" || \\\n",
    "    echo 'autocmd VimEnter * NERDTree | set nu' | tee -a \"$HOME/.vimrc\" && \\\n",
    "    echo \"NERDTree on start installed\""
   ]
  },
  {
   "cell_type": "markdown",
   "id": "997a127d-16c7-4276-98d2-c08d50bac9a7",
   "metadata": {},
   "source": [
    "---\n",
    "## .gitignore\n",
    "\n",
    "There's a sample `.gitignore` file available in `/etc/skel` with "
   ]
  },
  {
   "cell_type": "code",
   "execution_count": null,
   "id": "86b70e27-1071-4ab1-ba06-4a83971ce84c",
   "metadata": {},
   "outputs": [],
   "source": []
  }
 ],
 "metadata": {
  "kernelspec": {
   "display_name": "Python 3",
   "language": "python",
   "name": "python3"
  },
  "language_info": {
   "codemirror_mode": {
    "name": "ipython",
    "version": 3
   },
   "file_extension": ".py",
   "mimetype": "text/x-python",
   "name": "python",
   "nbconvert_exporter": "python",
   "pygments_lexer": "ipython3",
   "version": "3.9.10"
  }
 },
 "nbformat": 4,
 "nbformat_minor": 5
}
