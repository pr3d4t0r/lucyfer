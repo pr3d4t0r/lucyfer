{
 "cells": [
  {
   "cell_type": "markdown",
   "id": "412db457-236f-4575-9ae1-9be68dcec1df",
   "metadata": {},
   "source": [
    "## Kallisto/Blazegraph\n",
    "\n",
    "Kallisto is the container that runs Blazegraph in full feature mode, with 2 GB RAM assigned to the corresponding JVM.  All connections to Kallisto must use the Docker container name `kallisto` or its IP address.  Use the FQDN or IP address for external, 3rd-party Blazegraph instances.\n",
    "\n",
    "### Ports\n",
    "\n",
    "- `kallisto:9999` in the Lucyfer environment\n",
    "- `$IP_ADDRESS:8809` to use the Kallisto instance on the Docker image host machine\n",
    "\n",
    "See the `lucyfer-compose.yaml` file for configuration information.\n",
    "\n",
    "Confirm that we can connect to Blazegraph:"
   ]
  },
  {
   "cell_type": "code",
   "execution_count": 25,
   "id": "46a01f7e-934c-4bac-bd0d-0d879087c69b",
   "metadata": {},
   "outputs": [],
   "source": [
    "%%capture b\n",
    "!curl -sL http://kallisto:9999 | awk '/Welcome to/'"
   ]
  },
  {
   "cell_type": "code",
   "execution_count": 26,
   "id": "051c851a-d715-491e-b96b-1de0aa05971d",
   "metadata": {},
   "outputs": [
    {
     "data": {
      "text/plain": [
       "'Welcome to Blazegraph Database!'"
      ]
     },
     "execution_count": 26,
     "metadata": {},
     "output_type": "execute_result"
    }
   ],
   "source": [
    "b.stdout.strip()"
   ]
  }
 ],
 "metadata": {
  "kernelspec": {
   "display_name": "Python 3 (ipykernel)",
   "language": "python",
   "name": "python3"
  },
  "language_info": {
   "codemirror_mode": {
    "name": "ipython",
    "version": 3
   },
   "file_extension": ".py",
   "mimetype": "text/x-python",
   "name": "python",
   "nbconvert_exporter": "python",
   "pygments_lexer": "ipython3",
   "version": "3.10.4"
  }
 },
 "nbformat": 4,
 "nbformat_minor": 5
}
