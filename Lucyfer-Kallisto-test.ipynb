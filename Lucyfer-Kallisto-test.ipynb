{
 "cells": [
  {
   "cell_type": "markdown",
   "id": "7fa24d01-2ded-4bee-bc1b-bdb767f26ea9",
   "metadata": {
    "tags": []
   },
   "source": [
    "# Lucyfer and Kallisto test"
   ]
  },
  {
   "cell_type": "markdown",
   "id": "00c5bd04-54bc-468e-b841-463b3bd8bd16",
   "metadata": {},
   "source": [
    "Example from <a href='https://github.com/lyrasis/docker-blazegraph' target = '_blank'>lyrasis/docker-blazegraph</a> to validate connectivity to Blazegraph.  Prepare the request environment; not using `urlparse` or similar because it's a static URL without parameters.  <a href='https://hub.docker.com/r/lyrasis/blazegraph' target='_blank'>Comprehensive documentation</a> is available from Docker Hub."
   ]
  },
  {
   "cell_type": "markdown",
   "id": "7ad4ce42-97eb-4834-a694-aa3c339da094",
   "metadata": {},
   "source": [
    "## Start the database server"
   ]
  },
  {
   "cell_type": "code",
   "execution_count": null,
   "id": "003b08ee-81a8-49d4-b501-bdd382889b7a",
   "metadata": {},
   "outputs": [],
   "source": [
    "!!ssh -t \"eugene.ciurana@192.168.1.157\" '/usr/local/bin/docker run --name kallisto -d -p 8889:8080 lyrasis/blazegraph:2.1.5'"
   ]
  },
  {
   "cell_type": "markdown",
   "id": "113ca5cb-fd54-4754-bbc4-6bd4895eeeb5",
   "metadata": {},
   "source": [
    "## Confirm that the database server processes requests"
   ]
  },
  {
   "cell_type": "code",
   "execution_count": null,
   "id": "5a2ecdb2-47ae-471b-97b8-1e5fd3b7a1bc",
   "metadata": {},
   "outputs": [],
   "source": [
    "import requests\n",
    "\n",
    "hostName = '192.168.1.157'\n",
    "port = 8889\n",
    "locator = 'http://%s:%s/bigdata/' % (hostName, port)"
   ]
  },
  {
   "cell_type": "markdown",
   "id": "8c29a052-31ab-4ec0-8897-133849e0eeb2",
   "metadata": {},
   "source": [
    "Assemble the test request.  `dataloader.txt` is also in the original repository."
   ]
  },
  {
   "cell_type": "code",
   "execution_count": null,
   "id": "7956c869-2c7e-4a95-9652-b8a9b2b44ee7",
   "metadata": {},
   "outputs": [],
   "source": [
    "rawPayload = open('resources/dataloader.txt').read()\n",
    "print(rawPayload)"
   ]
  },
  {
   "cell_type": "code",
   "execution_count": null,
   "id": "c432bb35-9d63-4896-9ad0-3caf01c2520b",
   "metadata": {},
   "outputs": [],
   "source": [
    "payload = dict(( kv for kv in (tuple(line.split('=')) for line in rawPayload.split('\\n')) if len(kv) > 1))\n",
    "payload"
   ]
  },
  {
   "cell_type": "markdown",
   "id": "5cf69ef8-4459-47e8-90a1-f13ed6d07a33",
   "metadata": {},
   "source": [
    "Headers:"
   ]
  },
  {
   "cell_type": "code",
   "execution_count": null,
   "id": "07584c87-85e5-4fd6-8cba-680bebf68d3e",
   "metadata": {},
   "outputs": [],
   "source": [
    "headers = { 'Content-Type': 'text/plain', }\n",
    "headers"
   ]
  },
  {
   "cell_type": "markdown",
   "id": "8d76bcad-0bad-4ebc-bd25-b1352900dcb6",
   "metadata": {},
   "source": [
    "Now we have everything we need to `POST` passing the expected arguments to the `requests` module:"
   ]
  },
  {
   "cell_type": "code",
   "execution_count": null,
   "id": "9ea7bcfa-c933-4352-9f8f-b2bf74d05a1f",
   "metadata": {},
   "outputs": [],
   "source": [
    "response = requests.post(locator, data = payload, headers = headers)"
   ]
  },
  {
   "cell_type": "markdown",
   "id": "60c0e512-a275-403d-b109-9142bd45e7e1",
   "metadata": {},
   "source": [
    "Result:"
   ]
  },
  {
   "cell_type": "code",
   "execution_count": null,
   "id": "30586d86-3fea-4fec-8238-3fb9c83061d3",
   "metadata": {},
   "outputs": [],
   "source": [
    "(response.status_code, response.reason)"
   ]
  },
  {
   "cell_type": "code",
   "execution_count": null,
   "id": "0f1d3e11-88dc-4147-9708-a72c4795ab49",
   "metadata": {},
   "outputs": [],
   "source": [
    "response.headers"
   ]
  },
  {
   "cell_type": "markdown",
   "id": "12283927-b22d-476e-8221-73f7c54b17e9",
   "metadata": {},
   "source": [
    "## Done! Shut the database server down"
   ]
  },
  {
   "cell_type": "code",
   "execution_count": null,
   "id": "7b6b8f57-5a32-4bb8-ad38-1c0f203906a3",
   "metadata": {},
   "outputs": [],
   "source": [
    "!!ssh -t \"eugene.ciurana@192.168.1.157\" '/usr/local/bin/docker rm -f kallisto'"
   ]
  }
 ],
 "metadata": {
  "kernelspec": {
   "display_name": "Python 3 (ipykernel)",
   "language": "python",
   "name": "python3"
  },
  "language_info": {
   "codemirror_mode": {
    "name": "ipython",
    "version": 3
   },
   "file_extension": ".py",
   "mimetype": "text/x-python",
   "name": "python",
   "nbconvert_exporter": "python",
   "pygments_lexer": "ipython3",
   "version": "3.9.10"
  }
 },
 "nbformat": 4,
 "nbformat_minor": 5
}
